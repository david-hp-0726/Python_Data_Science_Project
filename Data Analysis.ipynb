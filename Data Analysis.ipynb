{
 "cells": [
  {
   "cell_type": "markdown",
   "id": "1c398e2f",
   "metadata": {},
   "source": [
    "# Import Libraries & Datasets"
   ]
  },
  {
   "cell_type": "code",
   "execution_count": 1,
   "id": "61a6ff21",
   "metadata": {},
   "outputs": [],
   "source": [
    "import numpy as np\n",
    "import pandas as pd\n",
    "import matplotlib.pyplot as plt\n",
    "import matplotlib.dates as mdates\n",
    "import scipy.stats\n",
    "import math\n",
    "from scipy.stats import pearsonr\n",
    "from scipy.stats import ttest_ind\n",
    "from statsmodels.tsa.stattools import adfuller\n",
    "from pandas.tseries.offsets import MonthEnd"
   ]
  },
  {
   "cell_type": "markdown",
   "id": "24a427d5",
   "metadata": {},
   "source": [
    "# Import Data"
   ]
  },
  {
   "cell_type": "code",
   "execution_count": 2,
   "id": "9cf1a473",
   "metadata": {
    "scrolled": false
   },
   "outputs": [
    {
     "data": {
      "text/html": [
       "<div>\n",
       "<style scoped>\n",
       "    .dataframe tbody tr th:only-of-type {\n",
       "        vertical-align: middle;\n",
       "    }\n",
       "\n",
       "    .dataframe tbody tr th {\n",
       "        vertical-align: top;\n",
       "    }\n",
       "\n",
       "    .dataframe thead th {\n",
       "        text-align: right;\n",
       "    }\n",
       "</style>\n",
       "<table border=\"1\" class=\"dataframe\">\n",
       "  <thead>\n",
       "    <tr style=\"text-align: right;\">\n",
       "      <th></th>\n",
       "      <th>State</th>\n",
       "      <th>Date</th>\n",
       "      <th>Grouping_Method</th>\n",
       "      <th>Group</th>\n",
       "      <th>Pct_Anxiety</th>\n",
       "      <th>Pct_Depression</th>\n",
       "      <th>Pct_Anxiety_Or_Depression</th>\n",
       "    </tr>\n",
       "  </thead>\n",
       "  <tbody>\n",
       "    <tr>\n",
       "      <th>0</th>\n",
       "      <td>United States</td>\n",
       "      <td>2020-04-29</td>\n",
       "      <td>By Age</td>\n",
       "      <td>18 - 29 years</td>\n",
       "      <td>40.2</td>\n",
       "      <td>32.7</td>\n",
       "      <td>46.8</td>\n",
       "    </tr>\n",
       "    <tr>\n",
       "      <th>1</th>\n",
       "      <td>United States</td>\n",
       "      <td>2020-05-09</td>\n",
       "      <td>By Age</td>\n",
       "      <td>18 - 29 years</td>\n",
       "      <td>42.0</td>\n",
       "      <td>36.2</td>\n",
       "      <td>47.4</td>\n",
       "    </tr>\n",
       "    <tr>\n",
       "      <th>2</th>\n",
       "      <td>United States</td>\n",
       "      <td>2020-05-16</td>\n",
       "      <td>By Age</td>\n",
       "      <td>18 - 29 years</td>\n",
       "      <td>38.6</td>\n",
       "      <td>36.7</td>\n",
       "      <td>47.7</td>\n",
       "    </tr>\n",
       "    <tr>\n",
       "      <th>3</th>\n",
       "      <td>United States</td>\n",
       "      <td>2020-05-23</td>\n",
       "      <td>By Age</td>\n",
       "      <td>18 - 29 years</td>\n",
       "      <td>39.1</td>\n",
       "      <td>36.7</td>\n",
       "      <td>46.6</td>\n",
       "    </tr>\n",
       "    <tr>\n",
       "      <th>4</th>\n",
       "      <td>United States</td>\n",
       "      <td>2020-05-30</td>\n",
       "      <td>By Age</td>\n",
       "      <td>18 - 29 years</td>\n",
       "      <td>42.2</td>\n",
       "      <td>36.8</td>\n",
       "      <td>49.3</td>\n",
       "    </tr>\n",
       "  </tbody>\n",
       "</table>\n",
       "</div>"
      ],
      "text/plain": [
       "           State       Date Grouping_Method          Group  Pct_Anxiety  \\\n",
       "0  United States 2020-04-29          By Age  18 - 29 years         40.2   \n",
       "1  United States 2020-05-09          By Age  18 - 29 years         42.0   \n",
       "2  United States 2020-05-16          By Age  18 - 29 years         38.6   \n",
       "3  United States 2020-05-23          By Age  18 - 29 years         39.1   \n",
       "4  United States 2020-05-30          By Age  18 - 29 years         42.2   \n",
       "\n",
       "   Pct_Depression  Pct_Anxiety_Or_Depression  \n",
       "0            32.7                       46.8  \n",
       "1            36.2                       47.4  \n",
       "2            36.7                       47.7  \n",
       "3            36.7                       46.6  \n",
       "4            36.8                       49.3  "
      ]
     },
     "execution_count": 2,
     "metadata": {},
     "output_type": "execute_result"
    }
   ],
   "source": [
    "health = pd.read_excel(\"health_final.xlsx\", index_col = 0)\n",
    "health.head()"
   ]
  },
  {
   "cell_type": "code",
   "execution_count": 3,
   "id": "eb393fb1",
   "metadata": {
    "scrolled": false
   },
   "outputs": [
    {
     "data": {
      "text/html": [
       "<div>\n",
       "<style scoped>\n",
       "    .dataframe tbody tr th:only-of-type {\n",
       "        vertical-align: middle;\n",
       "    }\n",
       "\n",
       "    .dataframe tbody tr th {\n",
       "        vertical-align: top;\n",
       "    }\n",
       "\n",
       "    .dataframe thead th {\n",
       "        text-align: right;\n",
       "    }\n",
       "</style>\n",
       "<table border=\"1\" class=\"dataframe\">\n",
       "  <thead>\n",
       "    <tr style=\"text-align: right;\">\n",
       "      <th></th>\n",
       "      <th>State</th>\n",
       "      <th>Date</th>\n",
       "      <th>Pct_Anxiety</th>\n",
       "      <th>Pct_Depression</th>\n",
       "      <th>Pct_Anxiety_Or_Depression</th>\n",
       "      <th>New_Cases</th>\n",
       "      <th>New_Deaths</th>\n",
       "      <th>Cum_Cases</th>\n",
       "      <th>Cum_Deaths</th>\n",
       "      <th>Gdp_Change</th>\n",
       "    </tr>\n",
       "  </thead>\n",
       "  <tbody>\n",
       "    <tr>\n",
       "      <th>0</th>\n",
       "      <td>Alabama</td>\n",
       "      <td>2020-04</td>\n",
       "      <td>25.600</td>\n",
       "      <td>18.600000</td>\n",
       "      <td>30.300</td>\n",
       "      <td>6069</td>\n",
       "      <td>258</td>\n",
       "      <td>7068</td>\n",
       "      <td>272</td>\n",
       "      <td>-29.5</td>\n",
       "    </tr>\n",
       "    <tr>\n",
       "      <th>1</th>\n",
       "      <td>Alabama</td>\n",
       "      <td>2020-05</td>\n",
       "      <td>26.175</td>\n",
       "      <td>22.850000</td>\n",
       "      <td>30.525</td>\n",
       "      <td>10884</td>\n",
       "      <td>358</td>\n",
       "      <td>17952</td>\n",
       "      <td>630</td>\n",
       "      <td>-29.5</td>\n",
       "    </tr>\n",
       "    <tr>\n",
       "      <th>2</th>\n",
       "      <td>Alabama</td>\n",
       "      <td>2020-06</td>\n",
       "      <td>32.500</td>\n",
       "      <td>27.100000</td>\n",
       "      <td>37.225</td>\n",
       "      <td>20093</td>\n",
       "      <td>320</td>\n",
       "      <td>38045</td>\n",
       "      <td>950</td>\n",
       "      <td>-29.5</td>\n",
       "    </tr>\n",
       "    <tr>\n",
       "      <th>3</th>\n",
       "      <td>Alabama</td>\n",
       "      <td>2020-07</td>\n",
       "      <td>36.400</td>\n",
       "      <td>30.566667</td>\n",
       "      <td>41.000</td>\n",
       "      <td>49678</td>\n",
       "      <td>630</td>\n",
       "      <td>87723</td>\n",
       "      <td>1580</td>\n",
       "      <td>42.5</td>\n",
       "    </tr>\n",
       "    <tr>\n",
       "      <th>4</th>\n",
       "      <td>Alabama</td>\n",
       "      <td>2020-08</td>\n",
       "      <td>30.600</td>\n",
       "      <td>27.700000</td>\n",
       "      <td>37.200</td>\n",
       "      <td>38335</td>\n",
       "      <td>602</td>\n",
       "      <td>126058</td>\n",
       "      <td>2182</td>\n",
       "      <td>42.5</td>\n",
       "    </tr>\n",
       "  </tbody>\n",
       "</table>\n",
       "</div>"
      ],
      "text/plain": [
       "     State     Date  Pct_Anxiety  Pct_Depression  Pct_Anxiety_Or_Depression  \\\n",
       "0  Alabama  2020-04       25.600       18.600000                     30.300   \n",
       "1  Alabama  2020-05       26.175       22.850000                     30.525   \n",
       "2  Alabama  2020-06       32.500       27.100000                     37.225   \n",
       "3  Alabama  2020-07       36.400       30.566667                     41.000   \n",
       "4  Alabama  2020-08       30.600       27.700000                     37.200   \n",
       "\n",
       "   New_Cases  New_Deaths  Cum_Cases  Cum_Deaths  Gdp_Change  \n",
       "0       6069         258       7068         272       -29.5  \n",
       "1      10884         358      17952         630       -29.5  \n",
       "2      20093         320      38045         950       -29.5  \n",
       "3      49678         630      87723        1580        42.5  \n",
       "4      38335         602     126058        2182        42.5  "
      ]
     },
     "execution_count": 3,
     "metadata": {},
     "output_type": "execute_result"
    }
   ],
   "source": [
    "hlth_covid_gdp = pd.read_excel(\"fulldata_fnal.xlsx\", index_col = 0)\n",
    "hlth_covid_gdp.head()"
   ]
  },
  {
   "cell_type": "code",
   "execution_count": 4,
   "id": "05cc69c5",
   "metadata": {
    "scrolled": false
   },
   "outputs": [
    {
     "data": {
      "text/html": [
       "<div>\n",
       "<style scoped>\n",
       "    .dataframe tbody tr th:only-of-type {\n",
       "        vertical-align: middle;\n",
       "    }\n",
       "\n",
       "    .dataframe tbody tr th {\n",
       "        vertical-align: top;\n",
       "    }\n",
       "\n",
       "    .dataframe thead th {\n",
       "        text-align: right;\n",
       "    }\n",
       "</style>\n",
       "<table border=\"1\" class=\"dataframe\">\n",
       "  <thead>\n",
       "    <tr style=\"text-align: right;\">\n",
       "      <th></th>\n",
       "      <th>State</th>\n",
       "      <th>Policy</th>\n",
       "      <th>Date</th>\n",
       "      <th>Policy_Category</th>\n",
       "      <th>Policy_State</th>\n",
       "    </tr>\n",
       "  </thead>\n",
       "  <tbody>\n",
       "    <tr>\n",
       "      <th>0</th>\n",
       "      <td>Alabama</td>\n",
       "      <td>STEMERG</td>\n",
       "      <td>2020-03-13</td>\n",
       "      <td>state_of_emergency</td>\n",
       "      <td>start</td>\n",
       "    </tr>\n",
       "    <tr>\n",
       "      <th>1</th>\n",
       "      <td>Alabama</td>\n",
       "      <td>VISITPER</td>\n",
       "      <td>2020-03-13</td>\n",
       "      <td>incarceration</td>\n",
       "      <td>start</td>\n",
       "    </tr>\n",
       "    <tr>\n",
       "      <th>2</th>\n",
       "      <td>Alabama</td>\n",
       "      <td>VISITATT</td>\n",
       "      <td>2020-03-13</td>\n",
       "      <td>incarceration</td>\n",
       "      <td>start</td>\n",
       "    </tr>\n",
       "    <tr>\n",
       "      <th>3</th>\n",
       "      <td>Alabama</td>\n",
       "      <td>TLHLMED</td>\n",
       "      <td>2020-03-16</td>\n",
       "      <td>healthcare_delivery</td>\n",
       "      <td>start</td>\n",
       "    </tr>\n",
       "    <tr>\n",
       "      <th>4</th>\n",
       "      <td>Alabama</td>\n",
       "      <td>WV_WTPRD</td>\n",
       "      <td>2020-03-16</td>\n",
       "      <td>unemployment</td>\n",
       "      <td>start</td>\n",
       "    </tr>\n",
       "  </tbody>\n",
       "</table>\n",
       "</div>"
      ],
      "text/plain": [
       "     State    Policy       Date      Policy_Category Policy_State\n",
       "0  Alabama   STEMERG 2020-03-13   state_of_emergency        start\n",
       "1  Alabama  VISITPER 2020-03-13        incarceration        start\n",
       "2  Alabama  VISITATT 2020-03-13        incarceration        start\n",
       "3  Alabama   TLHLMED 2020-03-16  healthcare_delivery        start\n",
       "4  Alabama  WV_WTPRD 2020-03-16         unemployment        start"
      ]
     },
     "execution_count": 4,
     "metadata": {},
     "output_type": "execute_result"
    }
   ],
   "source": [
    "policy = pd.read_excel(\"policy_final.xlsx\", index_col = 0)\n",
    "policy.head()"
   ]
  },
  {
   "cell_type": "code",
   "execution_count": 5,
   "id": "c4ccc0bd",
   "metadata": {
    "scrolled": false
   },
   "outputs": [
    {
     "data": {
      "text/html": [
       "<div>\n",
       "<style scoped>\n",
       "    .dataframe tbody tr th:only-of-type {\n",
       "        vertical-align: middle;\n",
       "    }\n",
       "\n",
       "    .dataframe tbody tr th {\n",
       "        vertical-align: top;\n",
       "    }\n",
       "\n",
       "    .dataframe thead th {\n",
       "        text-align: right;\n",
       "    }\n",
       "</style>\n",
       "<table border=\"1\" class=\"dataframe\">\n",
       "  <thead>\n",
       "    <tr style=\"text-align: right;\">\n",
       "      <th></th>\n",
       "      <th>POPESTIMATE2020</th>\n",
       "      <th>POPESTIMATE2021</th>\n",
       "    </tr>\n",
       "    <tr>\n",
       "      <th>NAME</th>\n",
       "      <th></th>\n",
       "      <th></th>\n",
       "    </tr>\n",
       "  </thead>\n",
       "  <tbody>\n",
       "    <tr>\n",
       "      <th>United States</th>\n",
       "      <td>331501080</td>\n",
       "      <td>331893745</td>\n",
       "    </tr>\n",
       "    <tr>\n",
       "      <th>Northeast Region</th>\n",
       "      <td>57525633</td>\n",
       "      <td>57159838</td>\n",
       "    </tr>\n",
       "    <tr>\n",
       "      <th>Midwest Region</th>\n",
       "      <td>68935174</td>\n",
       "      <td>68841444</td>\n",
       "    </tr>\n",
       "    <tr>\n",
       "      <th>South Region</th>\n",
       "      <td>126409007</td>\n",
       "      <td>127225329</td>\n",
       "    </tr>\n",
       "    <tr>\n",
       "      <th>West Region</th>\n",
       "      <td>78631266</td>\n",
       "      <td>78667134</td>\n",
       "    </tr>\n",
       "  </tbody>\n",
       "</table>\n",
       "</div>"
      ],
      "text/plain": [
       "                  POPESTIMATE2020  POPESTIMATE2021\n",
       "NAME                                              \n",
       "United States           331501080        331893745\n",
       "Northeast Region         57525633         57159838\n",
       "Midwest Region           68935174         68841444\n",
       "South Region            126409007        127225329\n",
       "West Region              78631266         78667134"
      ]
     },
     "execution_count": 5,
     "metadata": {},
     "output_type": "execute_result"
    }
   ],
   "source": [
    "pop = pd.read_csv(\"pop_final.csv\", index_col = 4)\n",
    "pop = pop[[\"POPESTIMATE2020\", \"POPESTIMATE2021\"]]\n",
    "pop.head()"
   ]
  },
  {
   "cell_type": "code",
   "execution_count": 6,
   "id": "2321eef8",
   "metadata": {},
   "outputs": [],
   "source": [
    "# merge population data to the dataframe\n",
    "merge = hlth_covid_gdp.merge(pop, left_on = \"State\", right_on = \"NAME\", how = \"left\")\n",
    "merge = merge.rename(columns = {\"POPESTIMATE2020\": \"Population\", \"POPESTIMATE2021\": \"Population_2021\"})\n",
    "for row in range(0, len(merge)):\n",
    "    if (pd.to_datetime(merge.loc[row, \"Date\"]) > pd.to_datetime(\"2021\")):\n",
    "        merge.loc[row, \"Population\"] = merge.loc[row, \"Population_2021\"]\n",
    "\n",
    "# remove unnecessary columns\n",
    "merge = merge.drop(axis = 1, labels = \"Population_2021\")\n",
    "\n",
    "# create a new column\n",
    "merge[\"Pct_Infected\"] = round(merge.New_Cases / merge.Population * 100, 2)\n",
    "merge[\"Pct_Casualty\"] = round(merge.New_Deaths / merge.Population * 100, 2)"
   ]
  },
  {
   "cell_type": "code",
   "execution_count": 7,
   "id": "9aad98d5",
   "metadata": {
    "scrolled": true
   },
   "outputs": [],
   "source": [
    "year_2021 = pd.to_datetime(\"2021\")\n",
    "merge[\"Country_Population\"] = [pop.POPESTIMATE2020[0] if pd.to_datetime(date) < year_2021 \n",
    "                               else pop.POPESTIMATE2021[0] for date in merge.Date]"
   ]
  },
  {
   "cell_type": "code",
   "execution_count": 8,
   "id": "cde082ac",
   "metadata": {},
   "outputs": [
    {
     "data": {
      "text/plain": [
       "<matplotlib.collections.PathCollection at 0x7fc7609636d0>"
      ]
     },
     "execution_count": 8,
     "metadata": {},
     "output_type": "execute_result"
    },
    {
     "data": {
      "image/png": "[encoded data removed]",
      "text/plain": [
       "<Figure size 432x288 with 1 Axes>"
      ]
     },
     "metadata": {
      "needs_background": "light"
     },
     "output_type": "display_data"
    }
   ],
   "source": [
    "plt.scatter(merge.Pct_Casualty, merge.Pct_Depression)\n"
   ]
  },
  {
   "cell_type": "markdown",
   "id": "efe12075",
   "metadata": {},
   "source": [
    "# Plots & Analysis"
   ]
  },
  {
   "cell_type": "markdown",
   "id": "d2b97580",
   "metadata": {},
   "source": [
    "### Plot 1: Percentage of US Adults Experiencing Mental Health Issues Since the Start of Covid-19 "
   ]
  },
  {
   "cell_type": "code",
   "execution_count": 34,
   "id": "fd287b87",
   "metadata": {
    "scrolled": false
   },
   "outputs": [
    {
     "data": {
      "text/html": [
       "<div>\n",
       "<style scoped>\n",
       "    .dataframe tbody tr th:only-of-type {\n",
       "        vertical-align: middle;\n",
       "    }\n",
       "\n",
       "    .dataframe tbody tr th {\n",
       "        vertical-align: top;\n",
       "    }\n",
       "\n",
       "    .dataframe thead th {\n",
       "        text-align: right;\n",
       "    }\n",
       "</style>\n",
       "<table border=\"1\" class=\"dataframe\">\n",
       "  <thead>\n",
       "    <tr style=\"text-align: right;\">\n",
       "      <th></th>\n",
       "      <th>Pct_Anxiety</th>\n",
       "      <th>Pct_Depression</th>\n",
       "      <th>Pct_Anxiety_Or_Depression</th>\n",
       "    </tr>\n",
       "    <tr>\n",
       "      <th>Date</th>\n",
       "      <th></th>\n",
       "      <th></th>\n",
       "      <th></th>\n",
       "    </tr>\n",
       "  </thead>\n",
       "  <tbody>\n",
       "    <tr>\n",
       "      <th>2020-04-30</th>\n",
       "      <td>30.800000</td>\n",
       "      <td>23.500000</td>\n",
       "      <td>35.900000</td>\n",
       "    </tr>\n",
       "    <tr>\n",
       "      <th>2020-05-31</th>\n",
       "      <td>29.550000</td>\n",
       "      <td>24.675000</td>\n",
       "      <td>34.525000</td>\n",
       "    </tr>\n",
       "    <tr>\n",
       "      <th>2020-06-30</th>\n",
       "      <td>31.750000</td>\n",
       "      <td>25.850000</td>\n",
       "      <td>36.500000</td>\n",
       "    </tr>\n",
       "    <tr>\n",
       "      <th>2020-07-31</th>\n",
       "      <td>35.233333</td>\n",
       "      <td>28.433333</td>\n",
       "      <td>40.066667</td>\n",
       "    </tr>\n",
       "    <tr>\n",
       "      <th>2020-08-31</th>\n",
       "      <td>31.400000</td>\n",
       "      <td>24.500000</td>\n",
       "      <td>36.400000</td>\n",
       "    </tr>\n",
       "  </tbody>\n",
       "</table>\n",
       "</div>"
      ],
      "text/plain": [
       "            Pct_Anxiety  Pct_Depression  Pct_Anxiety_Or_Depression\n",
       "Date                                                              \n",
       "2020-04-30    30.800000       23.500000                  35.900000\n",
       "2020-05-31    29.550000       24.675000                  34.525000\n",
       "2020-06-30    31.750000       25.850000                  36.500000\n",
       "2020-07-31    35.233333       28.433333                  40.066667\n",
       "2020-08-31    31.400000       24.500000                  36.400000"
      ]
     },
     "execution_count": 34,
     "metadata": {},
     "output_type": "execute_result"
    }
   ],
   "source": [
    "# reorganize the data into a format that can be plotted\n",
    "health_US = health.query('Grouping_Method == \"National Estimate\"')\n",
    "health_US = health_US.resample(\"M\", on = \"Date\").mean()\n",
    "health_US = health_US.ffill()\n",
    "health_US.head()"
   ]
  },
  {
   "cell_type": "code",
   "execution_count": 35,
   "id": "7bf7bfd4",
   "metadata": {
    "scrolled": true
   },
   "outputs": [
    {
     "data": {
      "text/plain": [
       "<matplotlib.legend.Legend at 0x7fc7616f5dc0>"
      ]
     },
     "execution_count": 35,
     "metadata": {},
     "output_type": "execute_result"
    },
    {
     "data": {
      "image/png": "[encoded data removed]",
      "text/plain": [
       "<Figure size 432x288 with 1 Axes>"
      ]
     },
     "metadata": {
      "needs_background": "light"
     },
     "output_type": "display_data"
    }
   ],
   "source": [
    "# adjust the format of x tick labels\n",
    "fig, ax = plt.subplots(1)\n",
    "ax.xaxis.set_major_formatter(mdates.DateFormatter(\"%Y-%m\"))\n",
    "for label in ax.get_xticklabels(which = \"major\"):\n",
    "    label.set(rotation = 30, horizontalalignment = \"right\")\n",
    "\n",
    "# plot the lines \n",
    "plt.plot(health_US.Pct_Anxiety)\n",
    "plt.plot(health_US.Pct_Depression)\n",
    "\n",
    "# create labels\n",
    "plt.xlabel(\"Date\")\n",
    "plt.ylabel(\"Percent of Adults\")\n",
    "plt.title(\"Mental Health Conditions Since Covid-19\")\n",
    "plt.legend([\"Anxiety Disorder\", \"Depressive Disorder\"])"
   ]
  },
  {
   "cell_type": "code",
   "execution_count": 46,
   "id": "0f08fb88",
   "metadata": {},
   "outputs": [
    {
     "data": {
      "image/png": "[encoded data removed]",
      "text/plain": [
       "<Figure size 432x288 with 2 Axes>"
      ]
     },
     "metadata": {
      "needs_background": "light"
     },
     "output_type": "display_data"
    }
   ],
   "source": [
    "# plot the lines \n",
    "fig, ax = plt.subplots(2)\n",
    "ax[0].plot(health_US.Pct_Anxiety)\n",
    "ax[1].plot(health_US.Pct_Depression)\n",
    "\n",
    "# add labels\n",
    "fig.suptitle(\"Mental Health Since April 2020\")\n",
    "ax[0].set_ylabel(\"Pct. Anxiety\")\n",
    "ax[1].set_ylabel(\"Pct. Depression\")\n",
    "\n",
    "# adjust x-tick labels\n",
    "for label in ax[1].get_xticklabels(which = \"major\"):\n",
    "    label.set(rotation = 30, horizontalalignment = \"right\")\n",
    "\n",
    "for ax in fig.get_axes():\n",
    "    ax.label_outer()"
   ]
  },
  {
   "cell_type": "markdown",
   "id": "f68b6ace",
   "metadata": {},
   "source": [
    "### Test 1: Is there a significant increase in the percentage of US adults experiencing mental health conditions?"
   ]
  },
  {
   "cell_type": "code",
   "execution_count": 11,
   "id": "aa000bf3",
   "metadata": {
    "scrolled": true
   },
   "outputs": [
    {
     "name": "stdout",
     "output_type": "stream",
     "text": [
      "Percent Anxiety in 2020-04: %30.8\n",
      "Percent Anxiety in 2022-11: %31.2\n",
      "2 Sample Z-Test (1-tailed):\n",
      "Test Statistic: 1.3435\n",
      "P-value: 0.0896\n",
      "\n",
      "Percent Depression in 2020-04: %23.5\n",
      "Percent Depression in 2022-11: %25.0\n",
      "2 Sample Z-Test (1-tailed):\n",
      "Test Statistic: 5.4229\n",
      "P-value: 3e-08\n"
     ]
    }
   ],
   "source": [
    "## 2-sample z-test to test difference in proportions\n",
    "n1 = 69316\n",
    "n2 = 37074\n",
    "p1 = health_US.Pct_Anxiety[0] / 100\n",
    "p2 = health_US.Pct_Anxiety[-1] / 100\n",
    "se = math.sqrt(p1*(1-p1)/n1 + p2*(1-p2)/n2)\n",
    "z_score = (p2 - p1) / se\n",
    "print(\"Percent Anxiety in 2020-04: %\" + str(health_US.Pct_Anxiety[0]))\n",
    "print(\"Percent Anxiety in 2022-11: %\" + str(health_US.Pct_Anxiety[-1]))\n",
    "print(\"2 Sample Z-Test (1-tailed):\")\n",
    "print(\"Test Statistic: \" + str(round(z_score, 4)))\n",
    "print(\"P-value: \" + str(round(scipy.stats.norm.sf(abs(z_score)), 4)) + \"\\n\")\n",
    "\n",
    "n1 = 69316\n",
    "n2 = 37074\n",
    "p1 = health_US.Pct_Depression[0] / 100\n",
    "p2 = health_US.Pct_Depression[-1] / 100\n",
    "se = math.sqrt(p1*(1-p1)/n1 + p2*(1-p2)/n2)\n",
    "z_score = (p2 - p1) / se\n",
    "print(\"Percent Depression in 2020-04: %\" + str(health_US.Pct_Depression[0]))\n",
    "print(\"Percent Depression in 2022-11: %\" + str(health_US.Pct_Depression[-1]))\n",
    "print(\"2 Sample Z-Test (1-tailed):\")\n",
    "print(\"Test Statistic: \" + str(round(z_score, 4)))\n",
    "print(\"P-value: \" + str(round(scipy.stats.norm.sf(abs(z_score)), 8)))\n"
   ]
  },
  {
   "cell_type": "markdown",
   "id": "8edde866",
   "metadata": {},
   "source": [
    "### Discussion: While the second z-test does generate a significant p-value, this result should be taken with caution because the two populations we are comparing are comparing are not independent."
   ]
  },
  {
   "cell_type": "markdown",
   "id": "f4d04215",
   "metadata": {},
   "source": [
    "### Test 2: Is the percentage of US adults experiencing mental health issues stationary over time?"
   ]
  },
  {
   "cell_type": "code",
   "execution_count": 12,
   "id": "67e01756",
   "metadata": {},
   "outputs": [
    {
     "name": "stdout",
     "output_type": "stream",
     "text": [
      "Adfuller for Anxiety:\n",
      "test statistic: -1.799238513653371\n",
      "p-value: 0.38083981592885374\n",
      "\n",
      "Adfuller for Depression:\n",
      "test statistic: -1.9174647636244802\n",
      "p-value: 0.32389026238536545\n",
      "\n"
     ]
    }
   ],
   "source": [
    "## Augmented Dickey Fuller Test to find out if a time-series data is stationary\n",
    "print(\"Adfuller for Anxiety:\")\n",
    "print(\"test statistic: \" + str(adfuller(health_US.Pct_Anxiety)[0]))\n",
    "print(\"p-value: \" + str(adfuller(health_US.Pct_Anxiety)[1]) + \"\\n\")\n",
    "\n",
    "print(\"Adfuller for Depression:\")\n",
    "print(\"test statistic: \" + str(adfuller(health_US.Pct_Depression)[0]))\n",
    "print(\"p-value: \" + str(adfuller(health_US.Pct_Depression)[1]) + \"\\n\")"
   ]
  },
  {
   "cell_type": "markdown",
   "id": "5993e909",
   "metadata": {},
   "source": [
    "### Discussion: Both tests yield a p-value greater than 0.05, indicating that both time-series data are non-stationary. In other words their properties are highly dependent on the time at which the data are observed, which is a sign that some other underlying variables are influencing how the data trend over time."
   ]
  },
  {
   "cell_type": "markdown",
   "id": "580ff2d9",
   "metadata": {},
   "source": [
    "### Plot 2: Number of Monthly New Cases/Deaths"
   ]
  },
  {
   "cell_type": "code",
   "execution_count": 13,
   "id": "2520646d",
   "metadata": {},
   "outputs": [
    {
     "data": {
      "text/html": [
       "<div>\n",
       "<style scoped>\n",
       "    .dataframe tbody tr th:only-of-type {\n",
       "        vertical-align: middle;\n",
       "    }\n",
       "\n",
       "    .dataframe tbody tr th {\n",
       "        vertical-align: top;\n",
       "    }\n",
       "\n",
       "    .dataframe thead th {\n",
       "        text-align: right;\n",
       "    }\n",
       "</style>\n",
       "<table border=\"1\" class=\"dataframe\">\n",
       "  <thead>\n",
       "    <tr style=\"text-align: right;\">\n",
       "      <th></th>\n",
       "      <th>New_Cases</th>\n",
       "      <th>New_Deaths</th>\n",
       "    </tr>\n",
       "    <tr>\n",
       "      <th>Date</th>\n",
       "      <th></th>\n",
       "      <th></th>\n",
       "    </tr>\n",
       "  </thead>\n",
       "  <tbody>\n",
       "    <tr>\n",
       "      <th>2020-04-30</th>\n",
       "      <td>884975</td>\n",
       "      <td>58742</td>\n",
       "    </tr>\n",
       "    <tr>\n",
       "      <th>2020-05-31</th>\n",
       "      <td>721264</td>\n",
       "      <td>41193</td>\n",
       "    </tr>\n",
       "    <tr>\n",
       "      <th>2020-06-30</th>\n",
       "      <td>850218</td>\n",
       "      <td>23066</td>\n",
       "    </tr>\n",
       "    <tr>\n",
       "      <th>2020-07-31</th>\n",
       "      <td>1908607</td>\n",
       "      <td>26332</td>\n",
       "    </tr>\n",
       "    <tr>\n",
       "      <th>2020-08-31</th>\n",
       "      <td>1455584</td>\n",
       "      <td>29383</td>\n",
       "    </tr>\n",
       "  </tbody>\n",
       "</table>\n",
       "</div>"
      ],
      "text/plain": [
       "            New_Cases  New_Deaths\n",
       "Date                             \n",
       "2020-04-30     884975       58742\n",
       "2020-05-31     721264       41193\n",
       "2020-06-30     850218       23066\n",
       "2020-07-31    1908607       26332\n",
       "2020-08-31    1455584       29383"
      ]
     },
     "execution_count": 13,
     "metadata": {},
     "output_type": "execute_result"
    }
   ],
   "source": [
    "# reorganize data into a plot-friendly format\n",
    "covid_US = hlth_covid_gdp.groupby(\"Date\")[[\"New_Cases\", \"New_Deaths\"]].sum()\n",
    "covid_US.index = pd.to_datetime(covid_US.index) + MonthEnd(0)\n",
    "covid_US.head()"
   ]
  },
  {
   "cell_type": "code",
   "execution_count": 14,
   "id": "770afcf4",
   "metadata": {},
   "outputs": [
    {
     "data": {
      "image/png": "[encoded data removed]",
      "text/plain": [
       "<Figure size 432x288 with 2 Axes>"
      ]
     },
     "metadata": {
      "needs_background": "light"
     },
     "output_type": "display_data"
    }
   ],
   "source": [
    "fig, ax = plt.subplots(2)\n",
    "ax[0].plot(covid_US.New_Cases)\n",
    "ax[1].plot(covid_US.New_Deaths)\n",
    "\n",
    "# adjust axis ticks\n",
    "def tick_formatter(value, tick_number):\n",
    "    if (value > 0):\n",
    "        power = round(np.log10(value))\n",
    "        num = round(value / (10**power), 1)\n",
    "        return str(num) + \"e\" + str(power)\n",
    "    else:\n",
    "        return 0\n",
    "ax[0].yaxis.set_major_formatter(plt.FuncFormatter(tick_formatter))\n",
    "\n",
    "def tick_formatter(value, tick_number):\n",
    "    num = round(value / 10000, 1)\n",
    "    return str(num) + \"e4\"\n",
    "ax[1].yaxis.set_major_formatter(plt.FuncFormatter(tick_formatter))\n",
    "\n",
    "# change the number of y ticks\n",
    "ax[0].yaxis.set_major_locator(plt.MaxNLocator(4))\n",
    "ax[1].yaxis.set_major_locator(plt.MaxNLocator(5))\n",
    "\n",
    "# titles\n",
    "fig.suptitle(\"Covid-19 Since April 2020\")\n",
    "ax[0].set_ylabel(\"No. Cases\")\n",
    "ax[1].set_ylabel(\"No. Deaths\")\n",
    "\n",
    "# adjust the format of x tick labels\n",
    "for label in ax[1].get_xticklabels(which = \"major\"):\n",
    "    label.set(rotation = 30, horizontalalignment = \"right\")\n",
    "\n",
    "for ax in fig.get_axes():\n",
    "    ax.label_outer()"
   ]
  },
  {
   "cell_type": "markdown",
   "id": "7db9ae4b",
   "metadata": {},
   "source": [
    "### Plot 3: Correlations between percentage of adults experiencing anxiety/depression and number of covid cases/covid deaths"
   ]
  },
  {
   "cell_type": "code",
   "execution_count": 15,
   "id": "56a9f3a6",
   "metadata": {
    "scrolled": false
   },
   "outputs": [
    {
     "data": {
      "text/html": [
       "<div>\n",
       "<style scoped>\n",
       "    .dataframe tbody tr th:only-of-type {\n",
       "        vertical-align: middle;\n",
       "    }\n",
       "\n",
       "    .dataframe tbody tr th {\n",
       "        vertical-align: top;\n",
       "    }\n",
       "\n",
       "    .dataframe thead th {\n",
       "        text-align: right;\n",
       "    }\n",
       "</style>\n",
       "<table border=\"1\" class=\"dataframe\">\n",
       "  <thead>\n",
       "    <tr style=\"text-align: right;\">\n",
       "      <th></th>\n",
       "      <th>Pct_Anxiety</th>\n",
       "      <th>Pct_Depression</th>\n",
       "      <th>Pct_Anxiety_Or_Depression</th>\n",
       "      <th>New_Cases</th>\n",
       "      <th>New_Deaths</th>\n",
       "    </tr>\n",
       "    <tr>\n",
       "      <th>Date</th>\n",
       "      <th></th>\n",
       "      <th></th>\n",
       "      <th></th>\n",
       "      <th></th>\n",
       "      <th></th>\n",
       "    </tr>\n",
       "  </thead>\n",
       "  <tbody>\n",
       "    <tr>\n",
       "      <th>2020-04</th>\n",
       "      <td>30.800000</td>\n",
       "      <td>23.500000</td>\n",
       "      <td>35.900000</td>\n",
       "      <td>884975</td>\n",
       "      <td>58742</td>\n",
       "    </tr>\n",
       "    <tr>\n",
       "      <th>2020-05</th>\n",
       "      <td>29.550000</td>\n",
       "      <td>24.675000</td>\n",
       "      <td>34.525000</td>\n",
       "      <td>721264</td>\n",
       "      <td>41193</td>\n",
       "    </tr>\n",
       "    <tr>\n",
       "      <th>2020-06</th>\n",
       "      <td>31.750000</td>\n",
       "      <td>25.850000</td>\n",
       "      <td>36.500000</td>\n",
       "      <td>850218</td>\n",
       "      <td>23066</td>\n",
       "    </tr>\n",
       "    <tr>\n",
       "      <th>2020-07</th>\n",
       "      <td>35.233333</td>\n",
       "      <td>28.433333</td>\n",
       "      <td>40.066667</td>\n",
       "      <td>1908607</td>\n",
       "      <td>26332</td>\n",
       "    </tr>\n",
       "    <tr>\n",
       "      <th>2020-08</th>\n",
       "      <td>31.400000</td>\n",
       "      <td>24.500000</td>\n",
       "      <td>36.400000</td>\n",
       "      <td>1455584</td>\n",
       "      <td>29383</td>\n",
       "    </tr>\n",
       "  </tbody>\n",
       "</table>\n",
       "</div>"
      ],
      "text/plain": [
       "         Pct_Anxiety  Pct_Depression  Pct_Anxiety_Or_Depression  New_Cases  \\\n",
       "Date                                                                         \n",
       "2020-04    30.800000       23.500000                  35.900000     884975   \n",
       "2020-05    29.550000       24.675000                  34.525000     721264   \n",
       "2020-06    31.750000       25.850000                  36.500000     850218   \n",
       "2020-07    35.233333       28.433333                  40.066667    1908607   \n",
       "2020-08    31.400000       24.500000                  36.400000    1455584   \n",
       "\n",
       "         New_Deaths  \n",
       "Date                 \n",
       "2020-04       58742  \n",
       "2020-05       41193  \n",
       "2020-06       23066  \n",
       "2020-07       26332  \n",
       "2020-08       29383  "
      ]
     },
     "execution_count": 15,
     "metadata": {},
     "output_type": "execute_result"
    }
   ],
   "source": [
    "# reorganize the data into a more plot-friendly format\n",
    "health_US.index = health_US.index.to_period(\"M\")\n",
    "covid_US.index = covid_US.index.to_period(\"M\")\n",
    "covid_health_US = health_US.merge(covid_US, left_index = True, right_index = True)\n",
    "covid_health_US.head()"
   ]
  },
  {
   "cell_type": "code",
   "execution_count": 29,
   "id": "3bc4ef6b",
   "metadata": {},
   "outputs": [
    {
     "data": {
      "image/png": "[encoded data removed]",
      "text/plain": [
       "<Figure size 432x288 with 4 Axes>"
      ]
     },
     "metadata": {
      "needs_background": "light"
     },
     "output_type": "display_data"
    }
   ],
   "source": [
    "# create a blank sheet consisting of 4 subplots\n",
    "fig, ax = plt.subplots(2, 2)\n",
    "  \n",
    "# title\n",
    "fig.suptitle(\"Correlation Between Covid-19 and the Prevalence Mental Health Issues\")\n",
    "\n",
    "# scatter plots\n",
    "ax[0, 0].scatter(np.log(covid_health_US.New_Cases), covid_health_US.Pct_Anxiety)\n",
    "ax[1, 0].scatter(np.log(covid_health_US.New_Cases), covid_health_US.Pct_Depression)\n",
    "ax[0, 1].scatter(np.log(covid_health_US.New_Deaths), covid_health_US.Pct_Anxiety)\n",
    "ax[1, 1].scatter(np.log(covid_health_US.New_Deaths), covid_health_US.Pct_Depression)\n",
    "\n",
    "# axis labels\n",
    "ax[0, 0].set_ylabel(\"Anxiety Disorder\")\n",
    "ax[1, 0].set_xlabel(\"$log_{e} (Cases)$\")\n",
    "ax[1, 0].set_ylabel(\"Depressive Disorder\")\n",
    "ax[1, 1].set_xlabel(\"$log_{e} (Deaths)$\")\n",
    "\n",
    "# tick labels\n",
    "def format_anxiety(value, tick_number):\n",
    "    # find number of multiples of pi/2\n",
    "    return str(round(np.e**value / 1000000)) + \"e7\"\n",
    "ax[1, 0].xaxis.set_major_formatter(plt.FuncFormatter(format_anxiety))\n",
    "\n",
    "def format_depression(value, tick_number):\n",
    "    return str(round(np.e**value / 10000)) + \"e5\"\n",
    "ax[1, 1].xaxis.set_major_formatter(plt.FuncFormatter(format_depression))\n",
    "\n",
    "for axi in ax.flat:\n",
    "    axi.yaxis.set_major_locator(plt.MaxNLocator(4))\n",
    "    axi.xaxis.set_major_locator(plt.MaxNLocator(4))\n",
    "\n",
    "\n",
    "# line of best fit\n",
    "a, b = np.polyfit(np.log(covid_health_US.New_Cases), covid_health_US.Pct_Anxiety, 1)\n",
    "ax[0, 0].plot(np.log(covid_health_US.New_Cases), a * np.log(covid_health_US.New_Cases) + b, color = \"m\")\n",
    "\n",
    "a, b = np.polyfit(np.log(covid_health_US.New_Cases), covid_health_US.Pct_Depression, 1)\n",
    "ax[1, 0].plot(np.log(covid_health_US.New_Cases), a * np.log(covid_health_US.New_Cases) + b, color = \"m\")\n",
    "\n",
    "a, b = np.polyfit(np.log(covid_health_US.New_Deaths), covid_health_US.Pct_Anxiety, 1)\n",
    "ax[0, 1].plot(np.log(covid_health_US.New_Deaths), a * np.log(covid_health_US.New_Deaths) + b, color = \"r\")\n",
    "\n",
    "a, b = np.polyfit(np.log(covid_health_US.New_Deaths), covid_health_US.Pct_Depression, 1)\n",
    "ax[1, 1].plot(np.log(covid_health_US.New_Deaths), a * np.log(covid_health_US.New_Deaths) + b, color = \"r\")\n",
    "\n",
    "# make the plots share x and y axes\n",
    "for ax in fig.get_axes():\n",
    "    ax.label_outer()\n",
    "\n",
    "# plt.savefig('Plot4.png')"
   ]
  },
  {
   "cell_type": "markdown",
   "id": "d40795b6",
   "metadata": {},
   "source": [
    "### Test 3: Whether the prevalence of mental health issues is significantly related to Covid-19 deaths or cases?"
   ]
  },
  {
   "cell_type": "code",
   "execution_count": null,
   "id": "497c7902",
   "metadata": {
    "scrolled": true
   },
   "outputs": [],
   "source": [
    "print(\"TEST 1: Anxiety vs Covid Cases\")\n",
    "result = pearsonr(covid_health_US.Pct_Anxiety, covid_health_US.New_Cases)\n",
    "print(\"correlation coefficient: \" + str(round(result[0], 4)))\n",
    "print(\"p-value: \" + str(round(result[1], 4)) + \"\\n\")\n",
    "\n",
    "print(\"TEST 2: Anxiety vs Covid Deaths\")\n",
    "result = pearsonr(covid_health_US.Pct_Anxiety, covid_health_US.New_Deaths)\n",
    "print(\"correlation coefficient: \" + str(round(result[0], 4)))\n",
    "print(\"p-value: \" + str(round(result[1], 4)) + \"\\n\")\n",
    "\n",
    "print(\"TEST 3: Depression vs Covid Cases\")\n",
    "result = pearsonr(covid_health_US.Pct_Depression, covid_health_US.New_Cases)\n",
    "print(\"correlation coefficient: \" + str(round(result[0], 4)))\n",
    "print(\"p-value: \" + str(round(result[1], 4)) + \"\\n\")\n",
    "\n",
    "print(\"TEST 4: Depression vs Covid Deaths\")\n",
    "result = pearsonr(covid_health_US.Pct_Depression, covid_health_US.New_Deaths)\n",
    "print(\"correlation coefficient: \" + str(round(result[0], 4)))\n",
    "print(\"p-value: \" + str(round(result[1], 4)) + \"\\n\")\n"
   ]
  },
  {
   "cell_type": "markdown",
   "id": "6531a125",
   "metadata": {},
   "source": [
    "### Discussion: While the number of monthly new covid cases seem to have no correlation with mental health issues, a positive and significant association is found between the number of covid deaths and the percentage of US adults suffering from anxiety and depressive symptoms."
   ]
  }
 ],
 "metadata": {
  "kernelspec": {
   "display_name": "Python 3",
   "language": "python",
   "name": "python3"
  },
  "language_info": {
   "codemirror_mode": {
    "name": "ipython",
    "version": 3
   },
   "file_extension": ".py",
   "mimetype": "text/x-python",
   "name": "python",
   "nbconvert_exporter": "python",
   "pygments_lexer": "ipython3",
   "version": "3.8.8"
  }
 },
 "nbformat": 4,
 "nbformat_minor": 5
}
